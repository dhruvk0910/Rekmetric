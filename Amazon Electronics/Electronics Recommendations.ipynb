{
 "cells": [
  {
   "cell_type": "code",
   "execution_count": 2,
   "metadata": {},
   "outputs": [
    {
     "name": "stdout",
     "output_type": "stream",
     "text": [
      "[('B00005T3XD', np.float64(0.12700012700019048)), ('B001AEWKXK', np.float64(0.12700012700019048)), ('B000VB6S9U', np.float64(0.12700012700019048)), ('B0026Q0EJS', np.float64(0.12320822072673954)), ('B00006OXGH', np.float64(0.10160010160015243))]\n"
     ]
    }
   ],
   "source": [
    "import pandas as pd\n",
    "import numpy as np\n",
    "from scipy.sparse import csr_matrix\n",
    "from sklearn.neighbors import NearestNeighbors\n",
    "\n",
    "# Load Dataset\n",
    "df = pd.read_csv(\"C:/Users/amish/OneDrive/Desktop/Kaggle Files/ratings_Electronics.csv\", names=[\"reviewerID\", \"asin\", \"rating\", \"timestamp\"], dtype={\"reviewerID\": str, \"asin\": str})\n",
    "df.drop(columns=[\"timestamp\"], inplace=True)\n",
    "\n",
    "# Encode Users & Items\n",
    "df[\"user_idx\"] = df[\"reviewerID\"].astype('category').cat.codes\n",
    "df[\"item_idx\"] = df[\"asin\"].astype('category').cat.codes\n",
    "\n",
    "num_users = df[\"user_idx\"].nunique()\n",
    "num_items = df[\"item_idx\"].nunique()\n",
    "\n",
    "# Create Sparse Interaction Matrix\n",
    "interaction_matrix = csr_matrix((df['rating'], (df['user_idx'], df['item_idx'])), shape=(num_users, num_items))\n",
    "\n",
    "# Train k-NN Model (Item-Based Collaborative Filtering)\n",
    "k = 10  # Neighbors to consider\n",
    "knn = NearestNeighbors(metric='cosine', algorithm='brute', n_neighbors=k, n_jobs=-1)\n",
    "knn.fit(interaction_matrix.T)  # Transpose for item-item similarity\n",
    "\n",
    "# Recommendation Function\n",
    "def recommend_items(user_id, top_n=5):\n",
    "    if user_id not in df['user_idx'].values:\n",
    "        return \"❌ User not found. Try another user.\"\n",
    "    \n",
    "    user_interactions = interaction_matrix[user_id].toarray().flatten()\n",
    "    watched_items = np.where(user_interactions > 0)[0]\n",
    "    \n",
    "    if len(watched_items) == 0:\n",
    "        return \"📌 No interactions found for this user. Showing popular items instead.\"\n",
    "    \n",
    "    scores = {}\n",
    "    for item in watched_items:\n",
    "        distances, indices = knn.kneighbors(interaction_matrix.T[item], n_neighbors=k)\n",
    "        for i in range(1, k):  # Skip first because it's the item itself\n",
    "            neighbor = indices[0][i]\n",
    "            if neighbor not in watched_items:\n",
    "                scores[neighbor] = scores.get(neighbor, 0) + (1 - distances[0][i])\n",
    "    \n",
    "    recommendations = sorted(scores.items(), key=lambda x: x[1], reverse=True)[:top_n]\n",
    "    return [(df.loc[df['item_idx'] == idx, 'asin'].values[0], score) for idx, score in recommendations]\n",
    "\n",
    "# Example Usage\n",
    "user_id = 0  # Change this to test different users\n",
    "print(recommend_items(user_id))\n"
   ]
  },
  {
   "cell_type": "code",
   "execution_count": 3,
   "metadata": {},
   "outputs": [
    {
     "name": "stdout",
     "output_type": "stream",
     "text": [
      "\n",
      "🎯 Personalized Recommendations for User 0:\n",
      "🔥 1. B00005T3XD - This is a **highly relevant** recommendation for you!\n",
      "✅ 2. B001AEWKXK - This should be a **good match** for your interests.\n",
      "✅ 3. B000VB6S9U - This should be a **good match** for your interests.\n",
      "👍 4. B0026Q0EJS - You might find this interesting.\n",
      "👍 5. B00006OXGH - You might find this interesting.\n"
     ]
    }
   ],
   "source": [
    "# Display Recommendations in a more structured way\n",
    "def show_recommendations(user_id, top_n=5):\n",
    "    recommended_items = recommend_items(user_id, top_n)\n",
    "    \n",
    "    if not recommended_items:\n",
    "        print(f\"❌ No personalized recommendations available for User {user_id}. Showing popular items instead.\")\n",
    "    else:\n",
    "        print(f\"\\n🎯 Personalized Recommendations for User {user_id}:\")\n",
    "        for idx, (item, _) in enumerate(recommended_items, start=1):\n",
    "            if idx == 1:\n",
    "                print(f\"🔥 {idx}. {item} - This is a **highly relevant** recommendation for you!\")\n",
    "            elif idx <= 3:\n",
    "                print(f\"✅ {idx}. {item} - This should be a **good match** for your interests.\")\n",
    "            else:\n",
    "                print(f\"👍 {idx}. {item} - You might find this interesting.\")\n",
    "\n",
    "# Example Usage\n",
    "show_recommendations(user_id=0, top_n=5)  # Replace with actual user_id"
   ]
  }
 ],
 "metadata": {
  "kernelspec": {
   "display_name": "Python 3",
   "language": "python",
   "name": "python3"
  },
  "language_info": {
   "codemirror_mode": {
    "name": "ipython",
    "version": 3
   },
   "file_extension": ".py",
   "mimetype": "text/x-python",
   "name": "python",
   "nbconvert_exporter": "python",
   "pygments_lexer": "ipython3",
   "version": "3.12.9"
  }
 },
 "nbformat": 4,
 "nbformat_minor": 2
}
