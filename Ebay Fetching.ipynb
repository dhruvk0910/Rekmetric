{
 "cells": [
  {
   "cell_type": "markdown",
   "metadata": {},
   "source": [
    "# eBay Marketplace Fetching Script\n",
    "\n",
    "This script is designed to fetch product details from the eBay marketplace. However, **this fetching system is not actively used** because running large-scale data collection, storage, and recommendation for millions of users would require significant server resources. \n",
    "\n",
    "Instead, this script serves as a reference for fetching product data and can be used for small-scale testing or integration into a larger system with appropriate infrastructure."
   ]
  },
  {
   "cell_type": "markdown",
   "metadata": {},
   "source": [
    "THIS CODE CELL GIVES YOU AN OAUTH TOKEN FROM YOUR EBAY CREDENTIALS FOR EXTRACTING DATA"
   ]
  },
  {
   "cell_type": "code",
   "execution_count": null,
   "metadata": {},
   "outputs": [
    {
     "name": "stdout",
     "output_type": "stream",
     "text": [
      "❌ Error: {\"error\":\"invalid_client\",\"error_description\":\"client authentication failed\"}\n"
     ]
    }
   ],
   "source": [
    "import requests\n",
    "import base64\n",
    "\n",
    "CLIENT_ID = \"client_id\"\n",
    "CLIENT_SECRET = \"client_secret\"\n",
    "\n",
    "credentials = f\"{CLIENT_ID}:{CLIENT_SECRET}\"\n",
    "encoded_credentials = base64.b64encode(credentials.encode()).decode()\n",
    "\n",
    "url = \"https://api.ebay.com/identity/v1/oauth2/token\"\n",
    "headers = {\n",
    "    \"Content-Type\": \"application/x-www-form-urlencoded\",\n",
    "    \"Authorization\": f\"Basic {encoded_credentials}\"\n",
    "}\n",
    "body = {\n",
    "    \"grant_type\": \"client_credentials\",\n",
    "    \"scope\": \"https://api.ebay.com/oauth/api_scope\"\n",
    "}\n",
    "\n",
    "response = requests.post(url, headers=headers, data=body)\n",
    "\n",
    "if response.status_code == 200:\n",
    "    access_token = response.json().get(\"access_token\")\n",
    "    print(\"✅ Your eBay Access Token:\", access_token)\n",
    "else:\n",
    "    print(\"❌ Error:\", response.text)\n",
    "\n",
    "#The code shows an error because the credentials are not entered \n",
    "#Put in the credentials to display the OAuth token"
   ]
  },
  {
   "cell_type": "markdown",
   "metadata": {},
   "source": [
    "THIS CODE CELL FETCHES THE PRODUCTS FROM THE US EBAY MARKET"
   ]
  },
  {
   "cell_type": "code",
   "execution_count": 2,
   "metadata": {},
   "outputs": [
    {
     "name": "stdout",
     "output_type": "stream",
     "text": [
      "{'href': 'https://api.ebay.com/buy/browse/v1/item_summary/search?q=laptop&limit=5&offset=0', 'total': 1010544, 'next': 'https://api.ebay.com/buy/browse/v1/item_summary/search?q=laptop&limit=5&offset=5', 'limit': 5, 'offset': 0, 'itemSummaries': [{'itemId': 'v1|387635594054|0', 'title': 'SGIN 15.6 Inch Laptop 4GB RAM 128GB SSD Computer with 2.4G/5G WiFi  Up to 2.5GHz', 'leafCategoryIds': ['177'], 'categories': [{'categoryId': '177', 'categoryName': 'PC Laptops & Netbooks'}, {'categoryId': '58058', 'categoryName': 'Computers/Tablets & Networking'}, {'categoryId': '175672', 'categoryName': 'Laptops & Netbooks'}], 'image': {'imageUrl': 'https://i.ebayimg.com/images/g/Of8AAOSw8VFmQxBr/s-l225.jpg'}, 'price': {'value': '139.99', 'currency': 'USD'}, 'itemHref': 'https://api.ebay.com/buy/browse/v1/item/v1%7C387635594054%7C0', 'seller': {'username': 'sgin-shop-1121', 'feedbackPercentage': '99.2', 'feedbackScore': 127}, 'marketingPrice': {'originalPrice': {'value': '559.96', 'currency': 'USD'}, 'discountPercentage': '75', 'discountAmount': {'value': '419.97', 'currency': 'USD'}, 'priceTreatment': 'MARKDOWN'}, 'condition': 'New', 'conditionId': '1000', 'thumbnailImages': [{'imageUrl': 'https://i.ebayimg.com/images/g/Of8AAOSw8VFmQxBr/s-l1600.jpg'}], 'shippingOptions': [{'shippingCostType': 'FIXED', 'shippingCost': {'value': '0.00', 'currency': 'USD'}}], 'buyingOptions': ['FIXED_PRICE', 'BEST_OFFER'], 'itemWebUrl': 'https://www.ebay.com/itm/387635594054?_skw=laptop&hash=item5a40e1c346:g:Of8AAOSw8VFmQxBr&amdata=enc%3AAQAKAAAA4PeG5RIuIyokJHJy903%2F5UbKlY0iRRMQqzMWIE1rUO7qrUHB4H25YnwSH2SvAhht0HCscz8zDx7v79QQoePhvJ2ROnJ4kfxgn8fREqEOxoM6BKh9%2B27xMCsfJD3JHRAL%2Bqa0HTlsx6WKVzoDqk8iLlDQBezFARzex%2BweA1Z6B7Feftav83nJA9Ns6Lq78kYOsV94nWAHCnCiDID1k3pPugLNKR8cUg50Mx%2F%2B11dcX%2FDGkxdQNF8ZOdECU3nXBT1C%2FdDSZUu0SzHxBAG6kalC4xF5ZF9QxPhVS4jvawLU%2B9yb', 'itemLocation': {'postalCode': '917**', 'country': 'US'}, 'additionalImages': [{'imageUrl': 'https://i.ebayimg.com/images/g/XXgAAOSwS55k-dlH/s-l225.jpg'}, {'imageUrl': 'https://i.ebayimg.com/images/g/dx0AAOSwmOVk-dlH/s-l225.jpg'}, {'imageUrl': 'https://i.ebayimg.com/images/g/3BUAAOSwGBBk-dlH/s-l225.jpg'}, {'imageUrl': 'https://i.ebayimg.com/images/g/GlEAAOSw621k-dlG/s-l225.jpg'}, {'imageUrl': 'https://i.ebayimg.com/images/g/gooAAOSw3x5k-dlG/s-l225.jpg'}, {'imageUrl': 'https://i.ebayimg.com/images/g/VtwAAOSwfypk-dlF/s-l225.jpg'}, {'imageUrl': 'https://i.ebayimg.com/images/g/sg4AAOSwMNJnPrAB/s-l225.jpg'}, {'imageUrl': 'https://i.ebayimg.com/images/g/lD8AAOSwDKpmQxB3/s-l225.jpg'}, {'imageUrl': 'https://i.ebayimg.com/images/g/hRAAAOSw4ltmQxB9/s-l225.jpg'}, {'imageUrl': 'https://i.ebayimg.com/images/g/0uUAAOSwtARmQxCG/s-l225.jpg'}], 'adultOnly': False, 'legacyItemId': '387635594054', 'availableCoupons': False, 'itemCreationDate': '2024-11-22T03:59:14.000Z', 'topRatedBuyingExperience': False, 'priorityListing': True, 'listingMarketplaceId': 'EBAY_US'}, {'itemId': 'v1|254582474636|0', 'title': 'HP ProBook 640 G5 Laptop 14\" Windows 11 Quad-Core i5 4.1GHz 8GB RAM 128GB SSD', 'leafCategoryIds': ['177'], 'categories': [{'categoryId': '177', 'categoryName': 'PC Laptops & Netbooks'}, {'categoryId': '58058', 'categoryName': 'Computers/Tablets & Networking'}, {'categoryId': '175672', 'categoryName': 'Laptops & Netbooks'}], 'image': {'imageUrl': 'https://i.ebayimg.com/images/g/EhEAAOSwM6hn0vKp/s-l225.jpg'}, 'price': {'value': '172.38', 'currency': 'USD'}, 'itemHref': 'https://api.ebay.com/buy/browse/v1/item/v1%7C254582474636%7C0', 'seller': {'username': 'discountcomputerdepot', 'feedbackPercentage': '98.7', 'feedbackScore': 129043}, 'condition': 'Good - Refurbished', 'conditionId': '2030', 'thumbnailImages': [{'imageUrl': 'https://i.ebayimg.com/images/g/EhEAAOSwM6hn0vKp/s-l1600.jpg'}], 'shippingOptions': [{'shippingCostType': 'FIXED', 'shippingCost': {'value': '0.00', 'currency': 'USD'}}], 'buyingOptions': ['FIXED_PRICE'], 'itemWebUrl': 'https://www.ebay.com/itm/254582474636?_skw=laptop&hash=item3b464c478c:g:EhEAAOSwM6hn0vKp&amdata=enc%3AAQAKAAAA4PeG5RIuIyokJHJy903%2F5UZVsSkdSqaRiFKaDLJTDzhD6Lwza0a8WGYQSdPvWlKDJzkGI7M3f9Cn3r5TUSKH7iJOjaZcOYs5dKUg7pH3TdLFy2rQN%2FU5LXx1cMEbqe4oaAMLFk3QHRqyFCowdX8n1C1ARGmD%2FqTjCY901XfZXjaegJsIlIRjzKOVwG5lQ%2BlEO9anV8ur5UHQxPUvHpf4LAFgOfFbtbAQfjPXI17HhxLYJfnlNvm3cjKd9LguUsWIFSVUopUjny6szNOeJLF43maGN8RVPJLHoOW%2FYpDuV53X', 'itemLocation': {'postalCode': '757**', 'country': 'US'}, 'additionalImages': [{'imageUrl': 'https://i.ebayimg.com/images/g/Bi4AAOSwuoFn0vKp/s-l225.jpg'}, {'imageUrl': 'https://i.ebayimg.com/images/g/HUoAAOSwXEBn0vKp/s-l225.jpg'}, {'imageUrl': 'https://i.ebayimg.com/images/g/i44AAOSw6xVn0vKp/s-l225.jpg'}, {'imageUrl': 'https://i.ebayimg.com/images/g/se0AAOSwJyFn0vKp/s-l225.jpg'}, {'imageUrl': 'https://i.ebayimg.com/images/g/NxEAAOSwughn0vKp/s-l225.jpg'}, {'imageUrl': 'https://i.ebayimg.com/images/g/OOoAAOSwBrReSsGz/s-l225.jpg'}], 'adultOnly': False, 'legacyItemId': '254582474636', 'availableCoupons': False, 'itemCreationDate': '2020-04-28T20:36:45.000Z', 'topRatedBuyingExperience': False, 'priorityListing': True, 'listingMarketplaceId': 'EBAY_US'}, {'itemId': 'v1|305966728301|0', 'title': 'Lenovo Yoga 6th Gen ThinkPad 11e 2-in-1 Laptop Windows 11 Pro. 8GB RAM 256GB SSD', 'leafCategoryIds': ['177'], 'categories': [{'categoryId': '177', 'categoryName': 'PC Laptops & Netbooks'}, {'categoryId': '58058', 'categoryName': 'Computers/Tablets & Networking'}, {'categoryId': '175672', 'categoryName': 'Laptops & Netbooks'}], 'image': {'imageUrl': 'https://i.ebayimg.com/images/g/APYAAOSwXAdnphxu/s-l225.jpg'}, 'price': {'value': '116.00', 'currency': 'USD'}, 'itemHref': 'https://api.ebay.com/buy/browse/v1/item/v1%7C305966728301%7C0', 'seller': {'username': 'hawk_line', 'feedbackPercentage': '94.4', 'feedbackScore': 27530}, 'condition': 'Used', 'conditionId': '3000', 'thumbnailImages': [{'imageUrl': 'https://i.ebayimg.com/images/g/APYAAOSwXAdnphxu/s-l1600.jpg'}], 'shippingOptions': [{'shippingCostType': 'FIXED', 'shippingCost': {'value': '0.00', 'currency': 'USD'}}], 'buyingOptions': ['FIXED_PRICE'], 'itemWebUrl': 'https://www.ebay.com/itm/305966728301?_skw=laptop&hash=item473d09c46d:g:APYAAOSwXAdnphxu&amdata=enc%3AAQAKAAAA4PeG5RIuIyokJHJy903%2F5UbhHXGz6t0mY0o6KK0PTW8Vk7lCVV3d9n138jkZ8AR3wkmCSUkocV7SmnETe3iNgP6vdJldzv7Plp8OrIoJt3iUwrz9RiupRtfCldsc1TDNLnBmDqVvs1uvoXua4EDdz9vHjcJ2Stqc9J%2BwLe1rBiWx5%2BcMPjZ2A5vKcRQM1ghB2moKJJptqRvNzAQVADpNoZnq0bEcWJlzz1yTOzf0Uh69XmA94dnpUOKYGjUyrC30A5%2Flg0RBzUenfeL5Ua%2FzXOy7KmnV2Gi9k9O92%2FzQXK2W', 'itemLocation': {'postalCode': '331**', 'country': 'US'}, 'additionalImages': [{'imageUrl': 'https://i.ebayimg.com/images/g/9HwAAOSwtA9medYv/s-l225.jpg'}, {'imageUrl': 'https://i.ebayimg.com/images/g/gL8AAOSwIVZmedYv/s-l225.jpg'}, {'imageUrl': 'https://i.ebayimg.com/images/g/vgMAAOSwGUBmedYv/s-l225.jpg'}, {'imageUrl': 'https://i.ebayimg.com/images/g/gNQAAOSwzwFnphxq/s-l225.jpg'}, {'imageUrl': 'https://i.ebayimg.com/images/g/QxIAAOSwPt9nphxq/s-l225.jpg'}, {'imageUrl': 'https://i.ebayimg.com/images/g/2WwAAOSwrUhnphxq/s-l225.jpg'}, {'imageUrl': 'https://i.ebayimg.com/images/g/IXQAAOSwLElnphxq/s-l225.jpg'}, {'imageUrl': 'https://i.ebayimg.com/images/g/IqIAAOSw2r9nphxq/s-l225.jpg'}, {'imageUrl': 'https://i.ebayimg.com/images/g/YwwAAOSwEFFnphxq/s-l225.jpg'}], 'adultOnly': False, 'legacyItemId': '305966728301', 'availableCoupons': False, 'itemCreationDate': '2024-12-10T16:03:10.000Z', 'topRatedBuyingExperience': False, 'priorityListing': True, 'listingMarketplaceId': 'EBAY_US'}, {'itemId': 'v1|306193488860|0', 'title': 'HP EliteBook 850 G5 15.6\"  i5-8250u 1.60GHZ  16GB  256GB SSD', 'leafCategoryIds': ['177'], 'categories': [{'categoryId': '177', 'categoryName': 'PC Laptops & Netbooks'}, {'categoryId': '58058', 'categoryName': 'Computers/Tablets & Networking'}, {'categoryId': '175672', 'categoryName': 'Laptops & Netbooks'}], 'image': {'imageUrl': 'https://i.ebayimg.com/images/g/XicAAOSw3xNn3d-w/s-l225.jpg'}, 'price': {'value': '169.99', 'currency': 'USD'}, 'itemHref': 'https://api.ebay.com/buy/browse/v1/item/v1%7C306193488860%7C0', 'seller': {'username': 'luckywolf29', 'feedbackPercentage': '99.7', 'feedbackScore': 45273}, 'condition': 'Used', 'conditionId': '3000', 'thumbnailImages': [{'imageUrl': 'https://i.ebayimg.com/images/g/XicAAOSw3xNn3d-w/s-l500.jpg'}], 'shippingOptions': [{'shippingCostType': 'FIXED', 'shippingCost': {'value': '0.00', 'currency': 'USD'}}], 'buyingOptions': ['FIXED_PRICE', 'BEST_OFFER'], 'itemWebUrl': 'https://www.ebay.com/itm/306193488860?_skw=laptop&hash=item474a8ddbdc:g:XicAAOSw3xNn3d-w&amdata=enc%3AAQAKAAAA4PeG5RIuIyokJHJy903%2F5UaEy%2Ba5B3qVEnSytnxysxhVAyfXWcJWhfky9BR5pKhY5RhLrl3AwvEuvRlheHLPeJnBiuWl5xKHRjHEZINn9Dfszp7waApzARGgQBO2oFFBQRique3JIYU%2FPlNKNqNec86qOa5V68cuiAaclEHlUkYhbY8REaNaJvhFO4t9%2F1GZRyLX28KDDKpUL4Z8GQ9%2Br9MzPA0Wo%2FZAGF5GLlxj8De5YJuX6fwcFrgZzr3jQuGVHC5fRZEWUvpdVT8mgQQFnpxqJ7oR%2FNhOl25XeTj4s1Nf', 'itemLocation': {'postalCode': '076**', 'country': 'US'}, 'additionalImages': [{'imageUrl': 'https://i.ebayimg.com/images/g/~R8AAOSwVTln3d-x/s-l225.jpg'}, {'imageUrl': 'https://i.ebayimg.com/images/g/2cYAAOSwp1dn3d-x/s-l225.jpg'}, {'imageUrl': 'https://i.ebayimg.com/images/g/pOkAAOSwYh1n3d-x/s-l225.jpg'}, {'imageUrl': 'https://i.ebayimg.com/images/g/n1wAAOSwQvBn3d-x/s-l225.jpg'}, {'imageUrl': 'https://i.ebayimg.com/images/g/a78AAOSwiEFn3d-x/s-l225.jpg'}], 'adultOnly': False, 'legacyItemId': '306193488860', 'availableCoupons': False, 'itemCreationDate': '2025-03-21T21:57:21.000Z', 'topRatedBuyingExperience': False, 'priorityListing': True, 'listingMarketplaceId': 'EBAY_US'}, {'itemId': 'v1|326138508182|0', 'title': 'Dell - Inspiron 2-in-1 14IPS LED FHD+ Touch Screen Laptop Intel Core 5 wi...', 'leafCategoryIds': ['177'], 'categories': [{'categoryId': '177', 'categoryName': 'PC Laptops & Netbooks'}, {'categoryId': '58058', 'categoryName': 'Computers/Tablets & Networking'}, {'categoryId': '175672', 'categoryName': 'Laptops & Netbooks'}], 'image': {'imageUrl': 'https://i.ebayimg.com/images/g/gBYAAeSwkMRn5YxY/s-l225.jpg'}, 'price': {'value': '749.99', 'currency': 'USD'}, 'itemHref': 'https://api.ebay.com/buy/browse/v1/item/v1%7C326138508182%7C0', 'seller': {'username': 'best_buy', 'feedbackPercentage': '95.7', 'feedbackScore': 861639}, 'condition': 'New', 'conditionId': '1000', 'thumbnailImages': [{'imageUrl': 'https://i.ebayimg.com/images/g/gBYAAeSwkMRn5YxY/s-l1600.jpg'}], 'shippingOptions': [{'shippingCostType': 'FIXED', 'shippingCost': {'value': '0.00', 'currency': 'USD'}}], 'buyingOptions': ['FIXED_PRICE'], 'epid': '11067724178', 'itemWebUrl': 'https://www.ebay.com/itm/326138508182?_skw=laptop&hash=item4bef5eb396:g:gBYAAeSwkMRn5YxY', 'itemLocation': {'country': 'US'}, 'additionalImages': [{'imageUrl': 'https://i.ebayimg.com/images/g/G6EAAeSwZJBn5YxY/s-l225.jpg'}, {'imageUrl': 'https://i.ebayimg.com/images/g/mx0AAeSwbBVn5YxY/s-l225.jpg'}, {'imageUrl': 'https://i.ebayimg.com/images/g/vc8AAeSws69n5YxY/s-l225.jpg'}, {'imageUrl': 'https://i.ebayimg.com/images/g/ZLcAAeSwwIFn5YxY/s-l225.jpg'}, {'imageUrl': 'https://i.ebayimg.com/images/g/rgsAAeSwVepn5YxY/s-l225.jpg'}], 'adultOnly': False, 'legacyItemId': '326138508182', 'availableCoupons': False, 'itemCreationDate': '2024-05-24T12:56:13.000Z', 'topRatedBuyingExperience': False, 'priorityListing': False, 'listingMarketplaceId': 'EBAY_US'}]}\n"
     ]
    }
   ],
   "source": [
    "import requests\n",
    "\n",
    "EBAY_ACCESS_TOKEN = access_token\n",
    "\n",
    "EBAY_BASE_URL = \"https://api.ebay.com/buy/browse/v1/item_summary/search\"\n",
    "\n",
    "def fetch_ebay_products(keyword, max_results=10):\n",
    "    headers = {\n",
    "        \"Authorization\": f\"Bearer {EBAY_ACCESS_TOKEN}\",\n",
    "        \"X-EBAY-C-MARKETPLACE-ID\": \"EBAY_US\",\n",
    "        \"Content-Type\": \"application/json\"\n",
    "    }\n",
    "\n",
    "    params = {\n",
    "        \"q\": keyword,\n",
    "        \"limit\": max_results\n",
    "    }\n",
    "\n",
    "    response = requests.get(EBAY_BASE_URL, headers=headers, params=params)\n",
    "\n",
    "    if response.status_code == 200:\n",
    "        return response.json()\n",
    "    else:\n",
    "        return f\"❌ Error: {response.status_code}, Response: {response.text}\"\n",
    "\n",
    "products = fetch_ebay_products(\"laptop\", max_results=5)\n",
    "print(products)\n"
   ]
  },
  {
   "cell_type": "markdown",
   "metadata": {},
   "source": [
    "ITERATES THROUGH ALL THE FETCHED PRODUCTS AND DISPLAYS THEM IN A USER READABLE MANNER"
   ]
  },
  {
   "cell_type": "code",
   "execution_count": 3,
   "metadata": {},
   "outputs": [
    {
     "name": "stdout",
     "output_type": "stream",
     "text": [
      "\n",
      "🔍 eBay Search Results:\n",
      "==================================================\n",
      "1. 🏷️ SGIN 15.6 Inch Laptop 4GB RAM 128GB SSD Computer with 2.4G/5G WiFi  Up to 2.5GHz\n",
      "   💰 Price: 139.99 USD\n",
      "   🔗 Link: https://www.ebay.com/itm/387635594054?_skw=laptop&hash=item5a40e1c346:g:Of8AAOSw8VFmQxBr&amdata=enc%3AAQAKAAAA4PeG5RIuIyokJHJy903%2F5UbKlY0iRRMQqzMWIE1rUO7qrUHB4H25YnwSH2SvAhht0HCscz8zDx7v79QQoePhvJ2ROnJ4kfxgn8fREqEOxoM6BKh9%2B27xMCsfJD3JHRAL%2Bqa0HTlsx6WKVzoDqk8iLlDQBezFARzex%2BweA1Z6B7Feftav83nJA9Ns6Lq78kYOsV94nWAHCnCiDID1k3pPugLNKR8cUg50Mx%2F%2B11dcX%2FDGkxdQNF8ZOdECU3nXBT1C%2FdDSZUu0SzHxBAG6kalC4xF5ZF9QxPhVS4jvawLU%2B9yb\n",
      "\n",
      "2. 🏷️ HP ProBook 640 G5 Laptop 14\" Windows 11 Quad-Core i5 4.1GHz 8GB RAM 128GB SSD\n",
      "   💰 Price: 172.38 USD\n",
      "   🔗 Link: https://www.ebay.com/itm/254582474636?_skw=laptop&hash=item3b464c478c:g:EhEAAOSwM6hn0vKp&amdata=enc%3AAQAKAAAA4PeG5RIuIyokJHJy903%2F5UZVsSkdSqaRiFKaDLJTDzhD6Lwza0a8WGYQSdPvWlKDJzkGI7M3f9Cn3r5TUSKH7iJOjaZcOYs5dKUg7pH3TdLFy2rQN%2FU5LXx1cMEbqe4oaAMLFk3QHRqyFCowdX8n1C1ARGmD%2FqTjCY901XfZXjaegJsIlIRjzKOVwG5lQ%2BlEO9anV8ur5UHQxPUvHpf4LAFgOfFbtbAQfjPXI17HhxLYJfnlNvm3cjKd9LguUsWIFSVUopUjny6szNOeJLF43maGN8RVPJLHoOW%2FYpDuV53X\n",
      "\n",
      "3. 🏷️ Lenovo Yoga 6th Gen ThinkPad 11e 2-in-1 Laptop Windows 11 Pro. 8GB RAM 256GB SSD\n",
      "   💰 Price: 116.00 USD\n",
      "   🔗 Link: https://www.ebay.com/itm/305966728301?_skw=laptop&hash=item473d09c46d:g:APYAAOSwXAdnphxu&amdata=enc%3AAQAKAAAA4PeG5RIuIyokJHJy903%2F5UbhHXGz6t0mY0o6KK0PTW8Vk7lCVV3d9n138jkZ8AR3wkmCSUkocV7SmnETe3iNgP6vdJldzv7Plp8OrIoJt3iUwrz9RiupRtfCldsc1TDNLnBmDqVvs1uvoXua4EDdz9vHjcJ2Stqc9J%2BwLe1rBiWx5%2BcMPjZ2A5vKcRQM1ghB2moKJJptqRvNzAQVADpNoZnq0bEcWJlzz1yTOzf0Uh69XmA94dnpUOKYGjUyrC30A5%2Flg0RBzUenfeL5Ua%2FzXOy7KmnV2Gi9k9O92%2FzQXK2W\n",
      "\n",
      "4. 🏷️ HP EliteBook 850 G5 15.6\"  i5-8250u 1.60GHZ  16GB  256GB SSD\n",
      "   💰 Price: 169.99 USD\n",
      "   🔗 Link: https://www.ebay.com/itm/306193488860?_skw=laptop&hash=item474a8ddbdc:g:XicAAOSw3xNn3d-w&amdata=enc%3AAQAKAAAA4PeG5RIuIyokJHJy903%2F5UaEy%2Ba5B3qVEnSytnxysxhVAyfXWcJWhfky9BR5pKhY5RhLrl3AwvEuvRlheHLPeJnBiuWl5xKHRjHEZINn9Dfszp7waApzARGgQBO2oFFBQRique3JIYU%2FPlNKNqNec86qOa5V68cuiAaclEHlUkYhbY8REaNaJvhFO4t9%2F1GZRyLX28KDDKpUL4Z8GQ9%2Br9MzPA0Wo%2FZAGF5GLlxj8De5YJuX6fwcFrgZzr3jQuGVHC5fRZEWUvpdVT8mgQQFnpxqJ7oR%2FNhOl25XeTj4s1Nf\n",
      "\n",
      "5. 🏷️ Dell - Inspiron 2-in-1 14IPS LED FHD+ Touch Screen Laptop Intel Core 5 wi...\n",
      "   💰 Price: 749.99 USD\n",
      "   🔗 Link: https://www.ebay.com/itm/326138508182?_skw=laptop&hash=item4bef5eb396:g:gBYAAeSwkMRn5YxY\n",
      "\n"
     ]
    }
   ],
   "source": [
    "def display_products(products):\n",
    "    \"\"\"Formats and prints eBay product search results in a user-friendly format.\"\"\"\n",
    "    if isinstance(products, str):\n",
    "        print(products)\n",
    "        return\n",
    "\n",
    "    items = products.get(\"itemSummaries\", []) \n",
    "\n",
    "    if not items:\n",
    "        print(\"❌ No products found!\")\n",
    "        return\n",
    "\n",
    "    print(\"\\n🔍 eBay Search Results:\")\n",
    "    print(\"=\" * 50)\n",
    "\n",
    "    for i, item in enumerate(items, start=1):\n",
    "        title = item.get(\"title\", \"N/A\")\n",
    "        price_info = item.get(\"price\", {})\n",
    "        price = price_info.get(\"value\", \"N/A\")\n",
    "        currency = price_info.get(\"currency\", \"N/A\")\n",
    "        url = item.get(\"itemWebUrl\", \"#\")\n",
    "\n",
    "        print(f\"{i}. 🏷️ {title}\")\n",
    "        print(f\"   💰 Price: {price} {currency}\")\n",
    "        print(f\"   🔗 Link: {url}\\n\")\n",
    "\n",
    "\n",
    "display_products(products)\n"
   ]
  }
 ],
 "metadata": {
  "kernelspec": {
   "display_name": "Python 3",
   "language": "python",
   "name": "python3"
  },
  "language_info": {
   "codemirror_mode": {
    "name": "ipython",
    "version": 3
   },
   "file_extension": ".py",
   "mimetype": "text/x-python",
   "name": "python",
   "nbconvert_exporter": "python",
   "pygments_lexer": "ipython3",
   "version": "3.12.9"
  }
 },
 "nbformat": 4,
 "nbformat_minor": 2
}
